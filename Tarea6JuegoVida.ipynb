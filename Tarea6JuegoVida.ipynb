{
  "nbformat": 4,
  "nbformat_minor": 0,
  "metadata": {
    "colab": {
      "name": "Tarea6JuegoVida.ipynb",
      "provenance": []
    },
    "kernelspec": {
      "name": "python3",
      "display_name": "Python 3"
    },
    "language_info": {
      "name": "python"
    }
  },
  "cells": [
    {
      "cell_type": "code",
      "metadata": {
        "id": "zymgTWncnmJD"
      },
      "source": [
        "class Array2DADT: \n",
        "    def __init__( self , ren , col ):\n",
        "        self.__pollo = [ [ 0 for y in range(col) ] for x in range(ren) ] \n",
        "    def clear ( self , dato ):\n",
        "        self.__pollo = [ [ dato for y in range(self.get_col_size())]for x in range(self.get_row_size()) ] \n",
        "    def get_row_size( self ):\n",
        "        return len( self.__pollo )\n",
        "    def get_col_size( self ):\n",
        "        return len( self.__pollo[0] )\n",
        "    def set_item( self , ren, col, dato ):\n",
        "        self.__pollo[ren][col]= dato\n",
        "    \n",
        "    def get_item( self , ren, col ):\n",
        "        return self.__pollo[ren][col]\n",
        "    def to_string( self ):\n",
        "      \n",
        "        cadena = \"\"\n",
        "        for renglon in self.__pollo:\n",
        "            cadena = cadena + \"|\"\n",
        "            for dato in renglon:\n",
        "                cadena = cadena + str(dato) + \"|\"\n",
        "            cadena = cadena + \"\\n\"\n",
        "        return cadena\n",
        "\n",
        "       "
      ],
      "execution_count": null,
      "outputs": []
    },
    {
      "cell_type": "code",
      "metadata": {
        "id": "dfEsntN0pQjJ"
      },
      "source": [
        "a2d = Array2DADT( 3, 6 )\n",
        "print(f\"Ren:{ a2d.get_row_size() }\")\n",
        "print(f\"Col: { a2d.get_col_size() }\")\n",
        "print(a2d.to_string())\n",
        "print(\" \")\n",
        "a2d.clear(\"M\")\n",
        "print(a2d.to_string())\n",
        "\n",
        "a2d.set_item(2,3,'p')\n",
        "print(a2d.to_string())\n",
        "print(a2d.get_item(2 , 3))\n"
      ],
      "execution_count": null,
      "outputs": []
    },
    {
      "cell_type": "code",
      "metadata": {
        "id": "29TL0CrNtdon"
      },
      "source": [
        ""
      ],
      "execution_count": null,
      "outputs": []
    },
    {
      "cell_type": "code",
      "metadata": {
        "id": "PSiTyaERsSdg"
      },
      "source": [
        "dir(list)"
      ],
      "execution_count": null,
      "outputs": []
    },
    {
      "cell_type": "code",
      "metadata": {
        "id": "Cq89fMKN1SR_"
      },
      "source": [
        "\"\"\"\n",
        "La entrada\n",
        "Los datos iniciales como lo son:\n",
        "1 .- Tamaño de la poblacion (ren y cols)\n",
        "2 .-La poblacion inicial\n",
        "3.- El numero de generaciones a simular estaran proporcionadas por un archivo de entrada separado por comas(csv)\n",
        "5\n",
        "5\n",
        "\n",
        "0,0,0,0,0\n",
        "0,0,1,0,0\n",
        "0,1,1,1,0\n",
        "0,0,0,0,0\n",
        "0,0,0,0,0\n",
        "\n",
        "\"\"\"\n",
        "\n",
        "class JuegoDeLaVida:\n",
        "    def __init__ ( self, ruta_archivo ):\n",
        "        self.rens = None\n",
        "        self.cols = None\n",
        "        self.tablero = None\n",
        "        self.generaciones = None\n",
        "        self.read_game_data( ruta_archivo )\n",
        "\n",
        "    def read_game_data( self, archivo ):\n",
        "       #método que recibe la ruta del archivo, lee y da valores\n",
        "       archivo = open(archivo, 'rt')\n",
        "       lineas = archivo.readlines()\n",
        "       #quitar espacios en blanco y saltos de línea\n",
        "       for index in range(len(lineas)):\n",
        "           lineas[index] = lineas[index].strip()\n",
        "       #print(lineas)\n",
        "       \n",
        "       self.rens = int( lineas[0] )\n",
        "       self.cols = int( lineas[1] )\n",
        "       self.tablero = Array2DADT(self.rens, self.cols)\n",
        "       #variables locales\n",
        "       r = 0\n",
        "       c = 0\n",
        "       for index in range( 2, 2 + self.rens , 1 ):\n",
        "           c = 0\n",
        "           for dato in lineas[index].split( ',' ):\n",
        "               self.tablero.set_item( r , c , int(dato) )\n",
        "               c += 1\n",
        "           r += 1\n",
        "\n",
        "       self.generaciones = int( lineas [ len(lineas) - 1] ) # int( lineas[-1])\n",
        "       print( \"Gens:\", self.generaciones)\n",
        "       print(self.tablero.to_string())\n",
        "\n",
        "    def get_vecinos( self, r , c):\n",
        "        vecinos = []\n",
        "        for ren in range( r-1 , r+2 , 1 ):\n",
        "            for col in range(c-1 , c+2 , 1):\n",
        "                if ren < 0 or ren >= self.tablero.get_row_size() or col < 0 or col >= self.tablero.get_col_size() or (ren==r and col==c):\n",
        "                    pass\n",
        "                else:\n",
        "                    vecinos.append((ren,col))\n",
        "        return vecinos\n",
        "    def get_vecinos_vivos( self, r, c ):\n",
        "        vecinos = self.get_vecinos(r, c)\n",
        "        vivos = 0\n",
        "        for par in vecinos:\n",
        "            if self.tablero.get_item( par[0], par[1] ) == 1:\n",
        "                vivos += 1\n",
        "        return vivos\n",
        "            \n",
        "    def calcular_siguinte(self ):\n",
        "        nueva_gen = Array2DADT(self.rens, self.cols)\n",
        "        #Aplicar 4 reglas a cada celula y el resultado ponerlo en nueva_gen\n",
        "        for ren in range( self ):\n",
        "            for col in range( sel.cols ):\n",
        "                print(f\"{ren},{col} --> {self.get_vecinos_vivos(ren, col)}\")\n",
        "        self.tablero = nueva_gen\n",
        "\n",
        "\n"
      ],
      "execution_count": null,
      "outputs": []
    },
    {
      "cell_type": "code",
      "metadata": {
        "colab": {
          "base_uri": "https://localhost:8080/",
          "height": 281
        },
        "id": "vU7q9jioW9cI",
        "outputId": "165cd780-ff53-49ab-8c03-91b8f47987ba"
      },
      "source": [
        "from time import sleep\n",
        "\n",
        "import numpy as np\n",
        "import matplotlib.pyplot as plt\n",
        "import matplotlib.cm as cm\n",
        "from matplotlib import animation\n",
        "\n",
        "import random\n",
        "from matplotlib.widgets import Button\n",
        "\n",
        "def vecindario(b):\n",
        "    #Array celularas vivas \n",
        "    vecindario = (\n",
        "        np.roll(np.roll(b, 1, 1), 1, 0) +  # Abajo-derecha\n",
        "        np.roll(b, 1, 0) +  # Abajo\n",
        "        np.roll(np.roll(b, -1, 1), 1, 0) +  # Abajo-izquierda\n",
        "        np.roll(b, -1, 1) +  # Izquierda\n",
        "        np.roll(np.roll(b, -1, 1), -1, 0) +  # Arriba-izquierda\n",
        "        np.roll(b, -1, 0) +  # Arriba\n",
        "        np.roll(np.roll(b, 1, 1), -1, 0) +  # Arriba-derecha\n",
        "        np.roll(b, 1, 1)  # Derecha\n",
        "    )\n",
        "    return vecindario\n",
        "\n",
        "\n",
        "def paso(b):\n",
        "    v = vecindario(b)\n",
        "    buffer_b = b.copy()  # Hacemos una copia de la matriz\n",
        "    for i in range(buffer_b.shape[0]):\n",
        "        for j in range(buffer_b.shape[1]):\n",
        "            if v[i, j] == 3 or (v[i, j] == 2 and buffer_b[i, j]):\n",
        "                buffer_b[i, j] = 1\n",
        "            else:\n",
        "                buffer_b[i, j] = 0\n",
        "    return buffer_b\n",
        "\n",
        "\n",
        "# Parámetros\n",
        "GENERACIONES = 100\n",
        "N = 16 # Dimensiones del tablero (N, M)\n",
        "M = N\n",
        "\n",
        "pause = True \n",
        "def onClick(event):\n",
        "    global pause\n",
        "    pause ^= True\n",
        "\n",
        "#Tablero\n",
        "tablero = np.zeros((N, M), dtype = int)\n",
        "tablero[1, 1:4] = 1\n",
        "tablero[2, 1] = 1\n",
        "tablero[3, 2] = 1\n",
        "\n",
        "def randomize(event):\n",
        "    for i in range(0, N-1):\n",
        "        for j in range(0, N-1):\n",
        "            tablero[i, j] = random.randint(0, 1)\n",
        "    global b\n",
        "    b = tablero\n",
        "    imagen.set_data(b)\n",
        "    print(tablero)\n",
        "\n",
        "# Creamos la figura\n",
        "fig = plt.figure(figsize=(4, 4))\n",
        "ax = fig.add_subplot(111)\n",
        "b = tablero \n",
        "imagen = ax.imshow(b, interpolation=\"none\", aspect = \"equal\", cmap=cm.gray_r)\n",
        "\n",
        "\n",
        "ax.set_yticks(np.arange(0, N, 1));\n",
        "\n",
        "\n",
        "ax.set_yticklabels(np.arange(1, N+1, 1));\n",
        "\n",
        "plt.tick_params(    \n",
        "    axis='x',          \n",
        "    which='both',      \n",
        "    bottom=False,      \n",
        "    top=False,         \n",
        "    labelbottom=False) \n",
        "\n",
        "def animate(i):\n",
        "    global b\n",
        "\n",
        "    if not pause:\n",
        "        print(i) \n",
        "        b = paso(b) \n",
        "        \n",
        "        imagen.set_data(b)\n",
        "    \n",
        "    return imagen,\n",
        "\n",
        "\n",
        "pause_ax = fig.add_axes((0.3, 0.025, 0.23, 0.04), anchor = 'SE')\n",
        "pause_button = Button(pause_ax, 'Play/pause', hovercolor='0.975')\n",
        "pause_button.on_clicked(onClick)\n",
        "\n",
        "random_ax = fig.add_axes((0.6, 0.025, 0.3, 0.04), anchor = 'SW')\n",
        "random_button = Button(random_ax, 'Randomize I. C.', hovercolor='0.975')\n",
        "random_button.on_clicked(randomize)\n",
        "\n",
        "# Animacion \n",
        "anim = animation.FuncAnimation(fig, animate, frames=GENERACIONES, blit=True, interval = 200, repeat = True)\n",
        "plt.show()"
      ],
      "execution_count": 1,
      "outputs": [
        {
          "output_type": "display_data",
          "data": {
            "image/png": "[encoded data removed]",
            "text/plain": [
              "<Figure size 288x288 with 3 Axes>"
            ]
          },
          "metadata": {
            "needs_background": "light"
          }
        }
      ]
    },
    {
      "cell_type": "code",
      "metadata": {
        "colab": {
          "base_uri": "https://localhost:8080/",
          "height": 166
        },
        "id": "5P_iYtxdU_Y3",
        "outputId": "75369a4d-6975-43e8-d455-d53323a65f9d"
      },
      "source": [
        "juego = JuegoDeLaVida( \"entrada.txt\" )"
      ],
      "execution_count": 2,
      "outputs": [
        {
          "output_type": "error",
          "ename": "NameError",
          "evalue": "ignored",
          "traceback": [
            "\u001b[0;31m---------------------------------------------------------------------------\u001b[0m",
            "\u001b[0;31mNameError\u001b[0m                                 Traceback (most recent call last)",
            "\u001b[0;32m<ipython-input-2-e18aac54012e>\u001b[0m in \u001b[0;36m<module>\u001b[0;34m()\u001b[0m\n\u001b[0;32m----> 1\u001b[0;31m \u001b[0mjuego\u001b[0m \u001b[0;34m=\u001b[0m \u001b[0mJuegoDeLaVida\u001b[0m\u001b[0;34m(\u001b[0m \u001b[0;34m\"entrada.txt\"\u001b[0m \u001b[0;34m)\u001b[0m\u001b[0;34m\u001b[0m\u001b[0;34m\u001b[0m\u001b[0m\n\u001b[0m",
            "\u001b[0;31mNameError\u001b[0m: name 'JuegoDeLaVida' is not defined"
          ]
        }
      ]
    },
    {
      "cell_type": "markdown",
      "metadata": {
        "id": "zX6h9SJ2hEOi"
      },
      "source": [
        ""
      ]
    }
  ]
}